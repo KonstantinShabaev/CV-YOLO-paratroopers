{
 "cells": [
  {
   "cell_type": "code",
   "execution_count": null,
   "id": "fc7ba7ae-216f-4948-93d9-a58e5ecc2f79",
   "metadata": {},
   "outputs": [],
   "source": [
    "from ultralytics import YOLO\n",
    "import matplotlib.pyplot as plt\n",
    "import cv2 \n",
    "import numpy as np\n",
    "model = YOLO(\"runs/segment/train3/weights/best.pt\")\n"
   ]
  },
  {
   "cell_type": "code",
   "execution_count": null,
   "id": "34927297-760d-49fa-bd3b-a6af30a3b424",
   "metadata": {},
   "outputs": [],
   "source": [
    "img=cv2.imread(\"D:/Shaba/Рабочий стол/YOLO/test1.jpg\")\n",
    "results=model(img,imgsz=640, iou=0.4,conf=0.45)"
   ]
  },
  {
   "cell_type": "code",
   "execution_count": null,
   "id": "8a254cef-1638-406c-942f-055f5ed83496",
   "metadata": {},
   "outputs": [],
   "source": [
    "# Получение классов и имен классов\n",
    "classes = results[0].boxes.cls.cpu().numpy()\n",
    "class_names = results[0].names\n",
    "\n",
    "# Получение бинарных масок и их количество\n",
    "masks = results[0].masks.data  # Формат: [число масок, высота, ширина]\n",
    "num_masks = masks.shape[0]\n",
    "\n",
    "# Определение случайных цветов и прозрачности для каждой маски\n",
    "colors = [tuple(np.random.randint(0, 256, 3).tolist()) for _ in range(num_masks)]  # Случайные цвета\n",
    "\n",
    "# Создание изображения для отображения масок\n",
    "mask_overlay = np.zeros_like(img)\n",
    "\n",
    "labeled_image = img.copy()\n",
    "\n",
    "\n",
    "# Добавление подписей к маскам\n",
    "for i in range(num_masks):\n",
    "    color = colors[i]  # Случайный цвет\n",
    "    mask = masks[i].cpu()\n",
    "\n",
    "    # Изменение размера маски до размеров исходного изображения с использованием метода ближайших соседей\n",
    "    mask_resized = cv2.resize(np.array(mask), (img.shape[1], img.shape[0]), interpolation=cv2.INTER_NEAREST)\n",
    "\n",
    "    # Получение класса для текущей маски\n",
    "    class_index = int(classes[i])\n",
    "    class_name = class_names[class_index]\n",
    "\n",
    "    # Добавление подписи к маске\n",
    "    mask_contours, _ = cv2.findContours(mask_resized.astype(np.uint8), cv2.RETR_EXTERNAL, cv2.CHAIN_APPROX_SIMPLE)\n",
    "    cv2.drawContours(labeled_image, mask_contours, -1, color, 5)\n",
    "    cv2.putText(labeled_image, class_name, (int(mask_contours[0][:, 0, 0].mean()), int(mask_contours[0][:, 0, 1].mean())),\n",
    "                cv2.FONT_HERSHEY_SIMPLEX, 1, color, 1)\n",
    "\n",
    "# Отобразите итоговое изображение с наложенными масками и подписями\n",
    "plt.figure(figsize=(8, 8), dpi=150)\n",
    "labeled_image = cv2.cvtColor(labeled_image, cv2.COLOR_BGR2RGB)\n",
    "plt.imshow(labeled_image)\n",
    "plt.axis('off')\n",
    "plt.show()\n"
   ]
  }
 ],
 "metadata": {
  "kernelspec": {
   "display_name": "Python 3 (ipykernel)",
   "language": "python",
   "name": "python3"
  },
  "language_info": {
   "codemirror_mode": {
    "name": "ipython",
    "version": 3
   },
   "file_extension": ".py",
   "mimetype": "text/x-python",
   "name": "python",
   "nbconvert_exporter": "python",
   "pygments_lexer": "ipython3",
   "version": "3.11.7"
  }
 },
 "nbformat": 4,
 "nbformat_minor": 5
}
